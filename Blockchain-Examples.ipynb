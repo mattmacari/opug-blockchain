{
 "cells": [
  {
   "cell_type": "markdown",
   "metadata": {},
   "source": [
    "# OPUG Blockchain - Walkthrough\n",
    "\n",
    "Make sure the virtual environment is set up correctly, and `requirements.txt` is installed."
   ]
  },
  {
   "cell_type": "code",
   "execution_count": 1,
   "metadata": {
    "scrolled": true
   },
   "outputs": [
    {
     "name": "stdout",
     "output_type": "stream",
     "text": [
      "Collecting pycryptodome\n",
      "\u001b[?25l  Downloading https://files.pythonhosted.org/packages/09/23/561648462715145a7a0d0939b56eca66625b96be5070ad93a195f7a0e0c7/pycryptodome-3.6.1-cp35-cp35m-manylinux1_x86_64.whl (7.3MB)\n",
      "\u001b[K    100% |████████████████████████████████| 7.3MB 479kB/s eta 0:00:01    45% |██████████████▌                 | 3.3MB 4.8MB/s eta 0:00:01\n",
      "\u001b[?25hCollecting cached_property\n",
      "  Using cached https://files.pythonhosted.org/packages/ca/21/d793828ce0bb01baa6bed307c68466829343cc93fccc055cfbc21f774959/cached_property-1.4.2-py2.py3-none-any.whl\n",
      "\u001b[31mpyasn1-modules 0.2.1 has requirement pyasn1<0.5.0,>=0.4.1, but you'll have pyasn1 0.1.9 which is incompatible.\u001b[0m\n",
      "\u001b[31mgrpcio 1.11.0 has requirement protobuf>=3.5.0.post1, but you'll have protobuf 3.4.1 which is incompatible.\u001b[0m\n",
      "Installing collected packages: pycryptodome, cached-property\n",
      "Successfully installed cached-property-1.4.2 pycryptodome-3.6.1\n"
     ]
    }
   ],
   "source": [
    "!pip install pycryptodome cached_property"
   ]
  },
  {
   "cell_type": "code",
   "execution_count": 2,
   "metadata": {},
   "outputs": [],
   "source": [
    "import pprint\n",
    "pp = pprint.PrettyPrinter(indent=4)\n",
    "\n",
    "pprint = pp.pprint"
   ]
  },
  {
   "cell_type": "markdown",
   "metadata": {},
   "source": [
    "## Block Example"
   ]
  },
  {
   "cell_type": "code",
   "execution_count": 28,
   "metadata": {},
   "outputs": [
    {
     "name": "stdout",
     "output_type": "stream",
     "text": [
      "Block JSON\n",
      "{   'block_id': '22a64953332b8bed36b2d413022c4626fc6ae55c3eb24814',\n",
      "    'hash': '29b07e984e7318a96454aebae0fcbf6508061b4e9db7602eb388a7c55f0ce301',\n",
      "    'previous_hash': 'previous-hash',\n",
      "    'transaction': {   'message': 'Hello, Bob!',\n",
      "                       'recipient': 'Bob',\n",
      "                       'sender': 'Alice'}}\n"
     ]
    }
   ],
   "source": [
    "from blockchain import Block\n",
    "\n",
    "transaction = {\n",
    "    'sender': 'Alice',\n",
    "    'recipient': 'Bob',\n",
    "    'message': 'Hello, Bob!'\n",
    "}\n",
    "\n",
    "blk = Block(transaction, previous_hash='previous-hash')\n",
    "\n",
    "print('Block JSON')\n",
    "pprint(blk.to_json())"
   ]
  },
  {
   "cell_type": "code",
   "execution_count": 4,
   "metadata": {},
   "outputs": [
    {
     "data": {
      "text/plain": [
       "'b1121f405b1ce813d9309987385a9ff842cf69339580e8e6c9218210e9141464'"
      ]
     },
     "execution_count": 4,
     "metadata": {},
     "output_type": "execute_result"
    }
   ],
   "source": [
    "blk.hash"
   ]
  },
  {
   "cell_type": "code",
   "execution_count": 5,
   "metadata": {},
   "outputs": [
    {
     "data": {
      "text/plain": [
       "'b96ddbeca26e4b30e903cd4dcee24bffb99463453f7afd9b'"
      ]
     },
     "execution_count": 5,
     "metadata": {},
     "output_type": "execute_result"
    }
   ],
   "source": [
    "blk.block_id"
   ]
  },
  {
   "cell_type": "markdown",
   "metadata": {},
   "source": [
    "## Wallet Example"
   ]
  },
  {
   "cell_type": "code",
   "execution_count": 29,
   "metadata": {},
   "outputs": [
    {
     "name": "stdout",
     "output_type": "stream",
     "text": [
      "public key:  30820122300d06092a864886f70d01010105000382010f003082010a02820101008e9dd38239ae261316c50d91246a5c80e4059dd4e44c40a32e07667eb85d52cf3fc1475861aadd1398a679bf2e499849d388f87454fae6ac2213ff57c109a37db7bbf34267b7d7519960d13e2a1a109e244cde0ceb0a601b58a4bbd1ff44b89aeacfdbe61202b495dd3db699889494ba2ee659c7d28e80a31d62628f2dd7d1816955fea62e86e9f128d1d5e0a0ec4ca82699a8ea622df0f27f257148286eee31a88d6efebed2b399df6cae415ee1a6b14de527eebb48d0c9956ffc22a7aee77d200815cf489e9d7bfda66cc7bc3afbd07e3147b550cf0eb32ac894d5513acd1700295325763cebfa142e50a312a426d2aa84e6ea71d2471b1a50ea9b037699bd0203010001\n",
      "------ Transaction --------\n",
      "{   'public_key': '30820122300d06092a864886f70d01010105000382010f003082010a02820101008e9dd38239ae261316c50d91246a5c80e4059dd4e44c40a32e07667eb85d52cf3fc1475861aadd1398a679bf2e499849d388f87454fae6ac2213ff57c109a37db7bbf34267b7d7519960d13e2a1a109e244cde0ceb0a601b58a4bbd1ff44b89aeacfdbe61202b495dd3db699889494ba2ee659c7d28e80a31d62628f2dd7d1816955fea62e86e9f128d1d5e0a0ec4ca82699a8ea622df0f27f257148286eee31a88d6efebed2b399df6cae415ee1a6b14de527eebb48d0c9956ffc22a7aee77d200815cf489e9d7bfda66cc7bc3afbd07e3147b550cf0eb32ac894d5513acd1700295325763cebfa142e50a312a426d2aa84e6ea71d2471b1a50ea9b037699bd0203010001',\n",
      "    'signature': '2c785e380300aef4acd5bc7fa060d38e7d1a04734c552873d638cf47117dc02a0f0c27e793d4235f117e925fa38c965051620cf86cab0f341ee9753738229aebb8027eb2099ac07da72b63f0f58ad1eac924d910a18e5ccacbc4e6e899d92f56f0bffad1647c342743efa3dae57fc42b737ddaacd182abb86818d538f8bf7dfdf29de3010b7000ebbf36450ff846de0075d83e32f2145529f1716cb5bdc4b6623b8a79b6f4c6bc6af5c89127d79341aa3677acf8a33628f3f3f3fca732e02a3e6d0a56ce03c1fcc9ce12d2b27cde1db16c749f05996f70bbfda68601985f4a4f109c8ba7d53f20a83fac35ca07c8a43b88fb08ce95012187af0bea407fa7d331',\n",
      "    'transaction': {   'message': 'Top Secret message about Charles',\n",
      "                       'recipient': 'Bob',\n",
      "                       'sender': 'Alice'}}\n"
     ]
    }
   ],
   "source": [
    "from blockchain import new_wallet\n",
    "\n",
    "wallet = new_wallet()\n",
    "\n",
    "print('public key: ', wallet.public_key)\n",
    "\n",
    "tx = wallet.generate_transaction(sender='Alice',\n",
    "                           recipient='Bob',\n",
    "                           message='Top Secret message about Charles')\n",
    "\n",
    "print('------ Transaction --------')\n",
    "pprint(tx)"
   ]
  },
  {
   "cell_type": "markdown",
   "metadata": {},
   "source": [
    "## Blockchain Example"
   ]
  },
  {
   "cell_type": "code",
   "execution_count": 38,
   "metadata": {
    "scrolled": true
   },
   "outputs": [
    {
     "name": "stdout",
     "output_type": "stream",
     "text": [
      "OrderedDict([   (   '7b618c2607ef5474b8da2c79d20506ada810b2e3f1c4028ffaa52c450d342976',\n",
      "                    Block(hash=7b618c2607ef5474b8da2c79d20506ada810b2e3f1c4028ffaa52c450d342976, previous_hash=0ca8765aeb3b37117424c633c409f4b3921a634db4354f17964bf6f4ed08e5dc, transaction={'chain_id': 'f4977f48c4b18eca12706c5c9745b823a20b05520358cc9d'}))])\n",
      "\n",
      "-- Appending Block to Chain --\n",
      "\n",
      "OrderedDict([   (   '7b618c2607ef5474b8da2c79d20506ada810b2e3f1c4028ffaa52c450d342976',\n",
      "                    Block(hash=7b618c2607ef5474b8da2c79d20506ada810b2e3f1c4028ffaa52c450d342976, previous_hash=0ca8765aeb3b37117424c633c409f4b3921a634db4354f17964bf6f4ed08e5dc, transaction={'chain_id': 'f4977f48c4b18eca12706c5c9745b823a20b05520358cc9d'})),\n",
      "                (   '50779147d6439c01851d1c5919d5899598e48300de8699c3212fb60caf4d9a1e',\n",
      "                    Block(hash=50779147d6439c01851d1c5919d5899598e48300de8699c3212fb60caf4d9a1e, previous_hash=7b618c2607ef5474b8da2c79d20506ada810b2e3f1c4028ffaa52c450d342976, transaction={'transaction': {'recipient': 'Bob', 'message': 'Top Secret message about Charles', 'sender': 'Alice'}, 'public_key': '30820122300d06092a864886f70d01010105000382010f003082010a0282010100985a55ead34a907231f08224c911f4b1d278a7d803a61d9d3d70ce113cf2a9b6974f941b548bce2a0ca71dc4db92a6aea036fe5badcca68800de3ea6c8b9eac0350aa6db600e62ffe7cf4fb62e52174ef72938b436526efea90629180df7a428ab088d54da3d8b7e8166437b5cc47fa4ef34df54102b7fb6d9f61028a7b4d1a14294f86c3d37847a539f4bee3b0d113106ede33d8e2555f32176e3403a15695862226d4c19891f0975561a9235a7d8f0896652eb0c127d0f96921da5c53140fde72dc6d77c798dba4b779e11fd45fd119b2962bbd18d7f62d1f1163ad1e1cd6f6b673df87d65782f82f7b9002c26744394a3ada4cfb39871d411c06a8ce3cc9b0203010001', 'signature': '0262cab0d04791eb3e617489f759086401c4a1c3372556a4745db6afebcf09c1ba91115b4fab3a850445fa61259e7d1d8fc6a734010404caeb33ef4cfa8250c7d2013d7584be3350504d7b7e3d70503b056d9069c9acea175f5350fb3c25c9b1b59360e798fe4afc558e0ef19d828c9a35628b8b6339efa4ab5f9738f2f3f7ea08ca02c26e2a63361c25aa40bd68d6101643d90acf9b21ccf17c8aba699283820149d445007526ba8527323f6b8bde88d21a6b02580958f7fd46d498300fdd61b0a10e51eeb3aa2d665906d60ead432563cbf23a3b8c7266ba86c9a8e5a4ac93550f3c1e20c8eb7e1cf1e2642e0f0339270c37b723e5505cddbc189c2a2732d1'})),\n",
      "                (   '27c11a48740ca6b189cf730ea96d4bdb2b094a0beb4f0e4a75873cddba6da5ed',\n",
      "                    Block(hash=27c11a48740ca6b189cf730ea96d4bdb2b094a0beb4f0e4a75873cddba6da5ed, previous_hash=50779147d6439c01851d1c5919d5899598e48300de8699c3212fb60caf4d9a1e, transaction={'transaction': {'recipient': 'Alice', 'message': 'I cannot believe it is not butter!', 'sender': 'Bob'}, 'public_key': '30820122300d06092a864886f70d01010105000382010f003082010a0282010100b001f5485d8fd5237005119b27b651a23cc4716dbe580498cf6dd8d607c7afb1daad0da591b67589f3bfdacb1f709d697cffd848790e842086312dfbaf2062285ab661642a517a4924a182860f2970f96fa4d5477ca2aaa50a53b454dac90fb7d1648bfebf58f78ca14978ffd36da9f147e7f22901c13f6e5aeef1ccd0488c81b80d10fc717463ae5512d10cb64c435b45408390f03d432f6baee9113d75342175ba956a58dbf6a04593b4e4cd06b9b52b54acf72286d2dcdabb9c4c050407e27ece9af64bbeffc82e3de1b238a7bbf8d12be1a7ad893f9e954beb9291b92e4085f91db594cf6329c9f4cd5384ee9980bdcc48b7a41c2bb0d53d568d6e2acd2d0203010001', 'signature': '822e3cc1ef82a5fb6dc92a90a57db683e3a90f3e483ffcd914430fc06acb2501a4cc08a17e6661532875baf04ab1b34ea0a0ccc9a6328e1beee090cccccc051d1dbf43bde88e56edc97dc319879a991887c27510b2a84f859684d3e54c28b386cebe17b05b3d5350b0a732e4fa0247b0a839827fdd128223737995814c393cfc02e83992d059012f296381bb279e23bcfe56d6eb9d37cad63776f217312b23efa94a96aea13c1c26d9f70a2e25fe9e37753e7b53fa972f5a63632bff4c9ff7b89bca606d738abad9d7642f328d7f242ddfa6bc1a25d3d678367b2a0095c35aae0fdef4764a27908ab29a66c558a16e46796d65cb2d851b21fb2cf012e1c0dd08'}))])\n"
     ]
    }
   ],
   "source": [
    "from blockchain import BlockChain, new_wallet\n",
    "\n",
    "a_wallet = new_wallet()\n",
    "b_wallet = new_wallet()\n",
    "\n",
    "block_chain = BlockChain()\n",
    "\n",
    "pprint(block_chain.chain)\n",
    "\n",
    "print('')\n",
    "print('-- Appending Block to Chain --')\n",
    "print('')\n",
    "\n",
    "tx = a_wallet.generate_transaction(sender='Alice',\n",
    "                           recipient='Bob',\n",
    "                           message='Top Secret message about Charles')\n",
    "\n",
    "tx2 = b_wallet.generate_transaction(sender='Bob',\n",
    "                                   recipient='Alice',\n",
    "                                   message='I cannot believe it is not butter!')\n",
    "\n",
    "block_chain.append(tx)\n",
    "block_chain.append(tx2)\n",
    "\n",
    "pprint(block_chain.chain)\n",
    "\n",
    "block_chain.validate_chain()"
   ]
  },
  {
   "cell_type": "code",
   "execution_count": 40,
   "metadata": {},
   "outputs": [],
   "source": [
    "# simulate a malicious actor attempting to change the message.\n",
    "\n",
    "blk = block_chain['50779147d6439c01851d1c5919d5899598e48300de8699c3212fb60caf4d9a1e']\n",
    "\n",
    "blk.transaction['transaction']['message'] = 'I am in love with olive oil! Down with butter...'\n",
    "\n",
    "block_chain.chain['50779147d6439c01851d1c5919d5899598e48300de8699c3212fb60caf4d9a1e'] = blk"
   ]
  },
  {
   "cell_type": "code",
   "execution_count": 42,
   "metadata": {},
   "outputs": [
    {
     "ename": "ValueError",
     "evalue": "Provided Signature does not match public key.",
     "output_type": "error",
     "traceback": [
      "\u001b[0;31m---------------------------------------------------------------------------\u001b[0m",
      "\u001b[0;31mValueError\u001b[0m                                Traceback (most recent call last)",
      "\u001b[0;32m<ipython-input-42-e115834fef01>\u001b[0m in \u001b[0;36m<module>\u001b[0;34m()\u001b[0m\n\u001b[1;32m      1\u001b[0m \u001b[0mblk\u001b[0m \u001b[0;34m=\u001b[0m \u001b[0mblock_chain\u001b[0m\u001b[0;34m[\u001b[0m\u001b[0;34m'50779147d6439c01851d1c5919d5899598e48300de8699c3212fb60caf4d9a1e'\u001b[0m\u001b[0;34m]\u001b[0m\u001b[0;34m\u001b[0m\u001b[0m\n\u001b[0;32m----> 2\u001b[0;31m \u001b[0mblk\u001b[0m\u001b[0;34m.\u001b[0m\u001b[0mverify_transaction\u001b[0m\u001b[0;34m(\u001b[0m\u001b[0;34m)\u001b[0m\u001b[0;34m\u001b[0m\u001b[0m\n\u001b[0m",
      "\u001b[0;32m~/library/blockchain/chain.py\u001b[0m in \u001b[0;36mverify_transaction\u001b[0;34m(self)\u001b[0m\n\u001b[1;32m     78\u001b[0m             \u001b[0;32mif\u001b[0m \u001b[0mkey\u001b[0m \u001b[0;32mnot\u001b[0m \u001b[0;32min\u001b[0m \u001b[0mself\u001b[0m\u001b[0;34m.\u001b[0m\u001b[0mtransaction\u001b[0m\u001b[0;34m:\u001b[0m\u001b[0;34m\u001b[0m\u001b[0m\n\u001b[1;32m     79\u001b[0m                 \u001b[0;32mraise\u001b[0m \u001b[0mBlockVerificationError\u001b[0m\u001b[0;34m(\u001b[0m\u001b[0;34m'{} is a required attribute of the transaction'\u001b[0m\u001b[0;34m.\u001b[0m\u001b[0mformat\u001b[0m\u001b[0;34m(\u001b[0m\u001b[0mkey\u001b[0m\u001b[0;34m)\u001b[0m\u001b[0;34m)\u001b[0m\u001b[0;34m\u001b[0m\u001b[0m\n\u001b[0;32m---> 80\u001b[0;31m         \u001b[0mself\u001b[0m\u001b[0;34m.\u001b[0m\u001b[0mverify_transaction_signature\u001b[0m\u001b[0;34m(\u001b[0m\u001b[0;34m)\u001b[0m\u001b[0;34m\u001b[0m\u001b[0m\n\u001b[0m\u001b[1;32m     81\u001b[0m \u001b[0;34m\u001b[0m\u001b[0m\n\u001b[1;32m     82\u001b[0m     \u001b[0;32mdef\u001b[0m \u001b[0mverify_transaction_signature\u001b[0m\u001b[0;34m(\u001b[0m\u001b[0mself\u001b[0m\u001b[0;34m)\u001b[0m\u001b[0;34m:\u001b[0m\u001b[0;34m\u001b[0m\u001b[0m\n",
      "\u001b[0;32m~/library/blockchain/chain.py\u001b[0m in \u001b[0;36mverify_transaction_signature\u001b[0;34m(self)\u001b[0m\n\u001b[1;32m     94\u001b[0m         \u001b[0mhash\u001b[0m \u001b[0;34m=\u001b[0m \u001b[0mSHA\u001b[0m\u001b[0;34m.\u001b[0m\u001b[0mnew\u001b[0m\u001b[0;34m(\u001b[0m\u001b[0mself\u001b[0m\u001b[0;34m.\u001b[0m\u001b[0m_json_str\u001b[0m\u001b[0;34m(\u001b[0m\u001b[0;34m**\u001b[0m\u001b[0mtransaction\u001b[0m\u001b[0;34m)\u001b[0m\u001b[0;34m.\u001b[0m\u001b[0mencode\u001b[0m\u001b[0;34m(\u001b[0m\u001b[0;34m'utf-8'\u001b[0m\u001b[0;34m)\u001b[0m\u001b[0;34m)\u001b[0m\u001b[0;34m\u001b[0m\u001b[0m\n\u001b[1;32m     95\u001b[0m         \u001b[0;32mif\u001b[0m \u001b[0;32mnot\u001b[0m \u001b[0mverifier\u001b[0m\u001b[0;34m.\u001b[0m\u001b[0mverify\u001b[0m\u001b[0;34m(\u001b[0m\u001b[0mhash\u001b[0m\u001b[0;34m,\u001b[0m \u001b[0mbinascii\u001b[0m\u001b[0;34m.\u001b[0m\u001b[0munhexlify\u001b[0m\u001b[0;34m(\u001b[0m\u001b[0mself\u001b[0m\u001b[0;34m.\u001b[0m\u001b[0mtransaction\u001b[0m\u001b[0;34m.\u001b[0m\u001b[0mget\u001b[0m\u001b[0;34m(\u001b[0m\u001b[0;34m'signature'\u001b[0m\u001b[0;34m)\u001b[0m\u001b[0;34m)\u001b[0m\u001b[0;34m)\u001b[0m\u001b[0;34m:\u001b[0m\u001b[0;34m\u001b[0m\u001b[0m\n\u001b[0;32m---> 96\u001b[0;31m             \u001b[0;32mraise\u001b[0m \u001b[0mValueError\u001b[0m\u001b[0;34m(\u001b[0m\u001b[0;34m'Provided Signature does not match public key.'\u001b[0m\u001b[0;34m)\u001b[0m\u001b[0;34m\u001b[0m\u001b[0m\n\u001b[0m\u001b[1;32m     97\u001b[0m \u001b[0;34m\u001b[0m\u001b[0m\n\u001b[1;32m     98\u001b[0m     \u001b[0;32mdef\u001b[0m \u001b[0mto_json\u001b[0m\u001b[0;34m(\u001b[0m\u001b[0mself\u001b[0m\u001b[0;34m)\u001b[0m\u001b[0;34m:\u001b[0m\u001b[0;34m\u001b[0m\u001b[0m\n",
      "\u001b[0;31mValueError\u001b[0m: Provided Signature does not match public key."
     ]
    }
   ],
   "source": [
    "blk = block_chain['50779147d6439c01851d1c5919d5899598e48300de8699c3212fb60caf4d9a1e']\n",
    "blk.verify_transaction()"
   ]
  },
  {
   "cell_type": "code",
   "execution_count": 43,
   "metadata": {},
   "outputs": [
    {
     "ename": "BlockChainVerificationError",
     "evalue": "",
     "output_type": "error",
     "traceback": [
      "\u001b[0;31m---------------------------------------------------------------------------\u001b[0m",
      "\u001b[0;31mBlockVerificationError\u001b[0m                    Traceback (most recent call last)",
      "\u001b[0;32m~/library/blockchain/chain.py\u001b[0m in \u001b[0;36mvalidate_chain\u001b[0;34m(self)\u001b[0m\n\u001b[1;32m    152\u001b[0m             \u001b[0;32mtry\u001b[0m\u001b[0;34m:\u001b[0m\u001b[0;34m\u001b[0m\u001b[0m\n\u001b[0;32m--> 153\u001b[0;31m                 \u001b[0mprev_block\u001b[0m\u001b[0;34m.\u001b[0m\u001b[0mverify_hash\u001b[0m\u001b[0;34m(\u001b[0m\u001b[0;34m)\u001b[0m\u001b[0;34m\u001b[0m\u001b[0m\n\u001b[0m\u001b[1;32m    154\u001b[0m             \u001b[0;32mexcept\u001b[0m \u001b[0mBlockVerificationError\u001b[0m\u001b[0;34m:\u001b[0m\u001b[0;34m\u001b[0m\u001b[0m\n",
      "\u001b[0;32m~/library/blockchain/chain.py\u001b[0m in \u001b[0;36mverify_hash\u001b[0;34m(self)\u001b[0m\n\u001b[1;32m     67\u001b[0m         \u001b[0;32mif\u001b[0m \u001b[0mself\u001b[0m\u001b[0;34m.\u001b[0m\u001b[0mhash\u001b[0m \u001b[0;34m!=\u001b[0m \u001b[0mself\u001b[0m\u001b[0;34m.\u001b[0m\u001b[0mhash_block\u001b[0m\u001b[0;34m(\u001b[0m\u001b[0;34m)\u001b[0m\u001b[0;34m:\u001b[0m\u001b[0;34m\u001b[0m\u001b[0m\n\u001b[0;32m---> 68\u001b[0;31m             \u001b[0;32mraise\u001b[0m \u001b[0mBlockVerificationError\u001b[0m\u001b[0;34m(\u001b[0m\u001b[0;34m'Unable to verify hash for {}'\u001b[0m\u001b[0;34m.\u001b[0m\u001b[0mformat\u001b[0m\u001b[0;34m(\u001b[0m\u001b[0mself\u001b[0m\u001b[0;34m)\u001b[0m\u001b[0;34m)\u001b[0m\u001b[0;34m\u001b[0m\u001b[0m\n\u001b[0m\u001b[1;32m     69\u001b[0m \u001b[0;34m\u001b[0m\u001b[0m\n",
      "\u001b[0;31mBlockVerificationError\u001b[0m: Unable to verify hash for Block(hash=50779147d6439c01851d1c5919d5899598e48300de8699c3212fb60caf4d9a1e, previous_hash=7b618c2607ef5474b8da2c79d20506ada810b2e3f1c4028ffaa52c450d342976, transaction={'transaction': {'recipient': 'Bob', 'message': 'I am in love with olive oil! Down with butter...', 'sender': 'Alice'}, 'public_key': '30820122300d06092a864886f70d01010105000382010f003082010a0282010100985a55ead34a907231f08224c911f4b1d278a7d803a61d9d3d70ce113cf2a9b6974f941b548bce2a0ca71dc4db92a6aea036fe5badcca68800de3ea6c8b9eac0350aa6db600e62ffe7cf4fb62e52174ef72938b436526efea90629180df7a428ab088d54da3d8b7e8166437b5cc47fa4ef34df54102b7fb6d9f61028a7b4d1a14294f86c3d37847a539f4bee3b0d113106ede33d8e2555f32176e3403a15695862226d4c19891f0975561a9235a7d8f0896652eb0c127d0f96921da5c53140fde72dc6d77c798dba4b779e11fd45fd119b2962bbd18d7f62d1f1163ad1e1cd6f6b673df87d65782f82f7b9002c26744394a3ada4cfb39871d411c06a8ce3cc9b0203010001', 'signature': '0262cab0d04791eb3e617489f759086401c4a1c3372556a4745db6afebcf09c1ba91115b4fab3a850445fa61259e7d1d8fc6a734010404caeb33ef4cfa8250c7d2013d7584be3350504d7b7e3d70503b056d9069c9acea175f5350fb3c25c9b1b59360e798fe4afc558e0ef19d828c9a35628b8b6339efa4ab5f9738f2f3f7ea08ca02c26e2a63361c25aa40bd68d6101643d90acf9b21ccf17c8aba699283820149d445007526ba8527323f6b8bde88d21a6b02580958f7fd46d498300fdd61b0a10e51eeb3aa2d665906d60ead432563cbf23a3b8c7266ba86c9a8e5a4ac93550f3c1e20c8eb7e1cf1e2642e0f0339270c37b723e5505cddbc189c2a2732d1'})",
      "\nDuring handling of the above exception, another exception occurred:\n",
      "\u001b[0;31mBlockChainVerificationError\u001b[0m               Traceback (most recent call last)",
      "\u001b[0;32m<ipython-input-43-df9b4e6adc09>\u001b[0m in \u001b[0;36m<module>\u001b[0;34m()\u001b[0m\n\u001b[0;32m----> 1\u001b[0;31m \u001b[0mblock_chain\u001b[0m\u001b[0;34m.\u001b[0m\u001b[0mvalidate_chain\u001b[0m\u001b[0;34m(\u001b[0m\u001b[0;34m)\u001b[0m\u001b[0;34m\u001b[0m\u001b[0m\n\u001b[0m",
      "\u001b[0;32m~/library/blockchain/chain.py\u001b[0m in \u001b[0;36mvalidate_chain\u001b[0;34m(self)\u001b[0m\n\u001b[1;32m    153\u001b[0m                 \u001b[0mprev_block\u001b[0m\u001b[0;34m.\u001b[0m\u001b[0mverify_hash\u001b[0m\u001b[0;34m(\u001b[0m\u001b[0;34m)\u001b[0m\u001b[0;34m\u001b[0m\u001b[0m\n\u001b[1;32m    154\u001b[0m             \u001b[0;32mexcept\u001b[0m \u001b[0mBlockVerificationError\u001b[0m\u001b[0;34m:\u001b[0m\u001b[0;34m\u001b[0m\u001b[0m\n\u001b[0;32m--> 155\u001b[0;31m                 \u001b[0;32mraise\u001b[0m \u001b[0mBlockChainVerificationError\u001b[0m\u001b[0;34m(\u001b[0m\u001b[0;34m)\u001b[0m\u001b[0;34m\u001b[0m\u001b[0m\n\u001b[0m\u001b[1;32m    156\u001b[0m \u001b[0;34m\u001b[0m\u001b[0m\n\u001b[1;32m    157\u001b[0m             \u001b[0;32mtry\u001b[0m\u001b[0;34m:\u001b[0m\u001b[0;34m\u001b[0m\u001b[0m\n",
      "\u001b[0;31mBlockChainVerificationError\u001b[0m: "
     ]
    }
   ],
   "source": [
    "block_chain.validate_chain()"
   ]
  }
 ],
 "metadata": {
  "kernelspec": {
   "display_name": "Python 3",
   "language": "python",
   "name": "python3"
  },
  "language_info": {
   "codemirror_mode": {
    "name": "ipython",
    "version": 3
   },
   "file_extension": ".py",
   "mimetype": "text/x-python",
   "name": "python",
   "nbconvert_exporter": "python",
   "pygments_lexer": "ipython3",
   "version": "3.5.4"
  }
 },
 "nbformat": 4,
 "nbformat_minor": 2
}
